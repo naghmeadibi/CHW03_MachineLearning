{
  "cells": [
    {
      "cell_type": "markdown",
      "metadata": {
        "id": "view-in-github",
        "colab_type": "text"
      },
      "source": [
        "<a href=\"https://colab.research.google.com/github/naghmeadibi/CHW03_MachineLearning/blob/main/HW_NN_Q2.ipynb\" target=\"_parent\"><img src=\"https://colab.research.google.com/assets/colab-badge.svg\" alt=\"Open In Colab\"/></a>"
      ]
    },
    {
      "cell_type": "markdown",
      "metadata": {
        "id": "9779e5d5"
      },
      "source": [
        "<div align=center>\n",
        "\n",
        "<font size=5>\n",
        "    In the Name of God\n",
        "<font/>\n",
        "<br/>\n",
        "<br/>\n",
        "<font>\n",
        "    Sharif University of Technology - Departmenet of Electrical Engineering\n",
        "</font>\n",
        "<br/>\n",
        "<font>\n",
        "    Introducing with Machine Learing - Dr. S. Amini\n",
        "</font>\n",
        "<br/>\n",
        "<br/>\n",
        "Spring 2023\n",
        "\n",
        "</div>\n",
        "\n",
        "<hr/>\n",
        "<div align=center>\n",
        "<font size=6>\n",
        "    Neural Networks Practical Assignment\n",
        "    \n",
        "    Question 2\n",
        "</font>\n",
        "<br/>\t\t\n",
        "<font size=4>\n",
        "<br/>\n",
        "</div>"
      ],
      "id": "9779e5d5"
    },
    {
      "cell_type": "markdown",
      "metadata": {
        "id": "1d55ee53"
      },
      "source": [
        "# Personal Data"
      ],
      "id": "1d55ee53"
    },
    {
      "cell_type": "code",
      "execution_count": null,
      "metadata": {
        "id": "40e950d8"
      },
      "outputs": [],
      "source": [
        "# Set your student number\n",
        "student_number = 99101076\n",
        "Name = 'Naghmeh'\n",
        "Last_Name = 'Adibi'"
      ],
      "id": "40e950d8"
    },
    {
      "cell_type": "markdown",
      "metadata": {
        "id": "2edb1e44"
      },
      "source": [
        "# Rules\n",
        "- You are not allowed to add or remove cells. You **must use the provided space to write your code**. If you don't follow this rule, **your Practical Assignment won't be graded**.  \n",
        "\n",
        "- Collaboration and using the internet is allowed, but your code **must be written by yourself**. **Copying code** from each other or from available resources will result in a **zero score for the assignment**.\n",
        "\n",
        "- In this question, you are allowed to use `torch.optim`, `torch.nn` or any other submodule you need.\n",
        "- You **are not allowed** to use the models already implemented or the pretrained models in torch. "
      ],
      "id": "2edb1e44"
    },
    {
      "cell_type": "code",
      "execution_count": null,
      "metadata": {
        "colab": {
          "base_uri": "https://localhost:8080/"
        },
        "id": "7a15a195",
        "outputId": "045aa847-bf20-4085-99b8-15f5eea57ee6"
      },
      "outputs": [
        {
          "name": "stdout",
          "output_type": "stream",
          "text": [
            "Looking in indexes: https://pypi.org/simple, https://us-python.pkg.dev/colab-wheels/public/simple/\n",
            "Requirement already satisfied: numpy in /usr/local/lib/python3.10/dist-packages (1.22.4)\n",
            "Looking in indexes: https://pypi.org/simple, https://us-python.pkg.dev/colab-wheels/public/simple/\n",
            "Requirement already satisfied: matplotlib in /usr/local/lib/python3.10/dist-packages (3.7.1)\n",
            "Requirement already satisfied: contourpy>=1.0.1 in /usr/local/lib/python3.10/dist-packages (from matplotlib) (1.0.7)\n",
            "Requirement already satisfied: cycler>=0.10 in /usr/local/lib/python3.10/dist-packages (from matplotlib) (0.11.0)\n",
            "Requirement already satisfied: fonttools>=4.22.0 in /usr/local/lib/python3.10/dist-packages (from matplotlib) (4.39.3)\n",
            "Requirement already satisfied: kiwisolver>=1.0.1 in /usr/local/lib/python3.10/dist-packages (from matplotlib) (1.4.4)\n",
            "Requirement already satisfied: numpy>=1.20 in /usr/local/lib/python3.10/dist-packages (from matplotlib) (1.22.4)\n",
            "Requirement already satisfied: packaging>=20.0 in /usr/local/lib/python3.10/dist-packages (from matplotlib) (23.1)\n",
            "Requirement already satisfied: pillow>=6.2.0 in /usr/local/lib/python3.10/dist-packages (from matplotlib) (8.4.0)\n",
            "Requirement already satisfied: pyparsing>=2.3.1 in /usr/local/lib/python3.10/dist-packages (from matplotlib) (3.0.9)\n",
            "Requirement already satisfied: python-dateutil>=2.7 in /usr/local/lib/python3.10/dist-packages (from matplotlib) (2.8.2)\n",
            "Requirement already satisfied: six>=1.5 in /usr/local/lib/python3.10/dist-packages (from python-dateutil>=2.7->matplotlib) (1.16.0)\n",
            "Looking in indexes: https://pypi.org/simple, https://us-python.pkg.dev/colab-wheels/public/simple/\n",
            "Requirement already satisfied: torchvision in /usr/local/lib/python3.10/dist-packages (0.15.2+cu118)\n",
            "Requirement already satisfied: numpy in /usr/local/lib/python3.10/dist-packages (from torchvision) (1.22.4)\n",
            "Requirement already satisfied: requests in /usr/local/lib/python3.10/dist-packages (from torchvision) (2.27.1)\n",
            "Requirement already satisfied: torch==2.0.1 in /usr/local/lib/python3.10/dist-packages (from torchvision) (2.0.1+cu118)\n",
            "Requirement already satisfied: pillow!=8.3.*,>=5.3.0 in /usr/local/lib/python3.10/dist-packages (from torchvision) (8.4.0)\n",
            "Requirement already satisfied: filelock in /usr/local/lib/python3.10/dist-packages (from torch==2.0.1->torchvision) (3.12.0)\n",
            "Requirement already satisfied: typing-extensions in /usr/local/lib/python3.10/dist-packages (from torch==2.0.1->torchvision) (4.5.0)\n",
            "Requirement already satisfied: sympy in /usr/local/lib/python3.10/dist-packages (from torch==2.0.1->torchvision) (1.11.1)\n",
            "Requirement already satisfied: networkx in /usr/local/lib/python3.10/dist-packages (from torch==2.0.1->torchvision) (3.1)\n",
            "Requirement already satisfied: jinja2 in /usr/local/lib/python3.10/dist-packages (from torch==2.0.1->torchvision) (3.1.2)\n",
            "Requirement already satisfied: triton==2.0.0 in /usr/local/lib/python3.10/dist-packages (from torch==2.0.1->torchvision) (2.0.0)\n",
            "Requirement already satisfied: cmake in /usr/local/lib/python3.10/dist-packages (from triton==2.0.0->torch==2.0.1->torchvision) (3.25.2)\n",
            "Requirement already satisfied: lit in /usr/local/lib/python3.10/dist-packages (from triton==2.0.0->torch==2.0.1->torchvision) (16.0.5)\n",
            "Requirement already satisfied: urllib3<1.27,>=1.21.1 in /usr/local/lib/python3.10/dist-packages (from requests->torchvision) (1.26.15)\n",
            "Requirement already satisfied: certifi>=2017.4.17 in /usr/local/lib/python3.10/dist-packages (from requests->torchvision) (2022.12.7)\n",
            "Requirement already satisfied: charset-normalizer~=2.0.0 in /usr/local/lib/python3.10/dist-packages (from requests->torchvision) (2.0.12)\n",
            "Requirement already satisfied: idna<4,>=2.5 in /usr/local/lib/python3.10/dist-packages (from requests->torchvision) (3.4)\n",
            "Requirement already satisfied: MarkupSafe>=2.0 in /usr/local/lib/python3.10/dist-packages (from jinja2->torch==2.0.1->torchvision) (2.1.2)\n",
            "Requirement already satisfied: mpmath>=0.19 in /usr/local/lib/python3.10/dist-packages (from sympy->torch==2.0.1->torchvision) (1.3.0)\n",
            "Looking in indexes: https://pypi.org/simple, https://us-python.pkg.dev/colab-wheels/public/simple/\n",
            "Requirement already satisfied: torch in /usr/local/lib/python3.10/dist-packages (2.0.1+cu118)\n",
            "Requirement already satisfied: filelock in /usr/local/lib/python3.10/dist-packages (from torch) (3.12.0)\n",
            "Requirement already satisfied: typing-extensions in /usr/local/lib/python3.10/dist-packages (from torch) (4.5.0)\n",
            "Requirement already satisfied: sympy in /usr/local/lib/python3.10/dist-packages (from torch) (1.11.1)\n",
            "Requirement already satisfied: networkx in /usr/local/lib/python3.10/dist-packages (from torch) (3.1)\n",
            "Requirement already satisfied: jinja2 in /usr/local/lib/python3.10/dist-packages (from torch) (3.1.2)\n",
            "Requirement already satisfied: triton==2.0.0 in /usr/local/lib/python3.10/dist-packages (from torch) (2.0.0)\n",
            "Requirement already satisfied: cmake in /usr/local/lib/python3.10/dist-packages (from triton==2.0.0->torch) (3.25.2)\n",
            "Requirement already satisfied: lit in /usr/local/lib/python3.10/dist-packages (from triton==2.0.0->torch) (16.0.5)\n",
            "Requirement already satisfied: MarkupSafe>=2.0 in /usr/local/lib/python3.10/dist-packages (from jinja2->torch) (2.1.2)\n",
            "Requirement already satisfied: mpmath>=0.19 in /usr/local/lib/python3.10/dist-packages (from sympy->torch) (1.3.0)\n"
          ]
        }
      ],
      "source": [
        "!pip install numpy\n",
        "!pip install matplotlib\n",
        "!pip install torchvision\n",
        "!pip install torch"
      ],
      "id": "7a15a195"
    },
    {
      "cell_type": "markdown",
      "metadata": {
        "id": "85c3b02e"
      },
      "source": [
        "## Importing Libraries"
      ],
      "id": "85c3b02e"
    },
    {
      "cell_type": "code",
      "execution_count": null,
      "metadata": {
        "id": "b6246005"
      },
      "outputs": [],
      "source": [
        "import torch\n",
        "from torchvision.datasets import CIFAR10\n",
        "from torchvision import transforms\n",
        "from torch.utils.data import DataLoader\n",
        "\n",
        "import numpy as np\n",
        "from matplotlib import pyplot as plt\n",
        "from typing import Dict\n",
        "\n",
        "import random"
      ],
      "id": "b6246005"
    },
    {
      "cell_type": "markdown",
      "metadata": {
        "id": "2c89754b"
      },
      "source": [
        "## Datasets and Dataloaders\n",
        "\n",
        "You should load the train and test set of the `CIFAR10` dataset and apply the desired transforms on it. Then, you should create the loaders for these `test` and `train` sets.\n",
        "- **Hint:** You can use `torchvision.datasets` to easily load the CIFAR10 dataset."
      ],
      "id": "2c89754b"
    },
    {
      "cell_type": "code",
      "execution_count": null,
      "metadata": {
        "colab": {
          "base_uri": "https://localhost:8080/"
        },
        "id": "40e10458",
        "outputId": "5925c483-c4ea-4e15-b8b4-9b7ba7d616d0"
      },
      "outputs": [
        {
          "name": "stdout",
          "output_type": "stream",
          "text": [
            "Files already downloaded and verified\n",
            "Files already downloaded and verified\n"
          ]
        }
      ],
      "source": [
        "## FILL HERE\n",
        "train_set = CIFAR10(root='.', train=True, download=True, transform=transforms.ToTensor())\n",
        "test_set = CIFAR10(root='.', train=False, download=True, transform=transforms.ToTensor())\n",
        "trainloader = DataLoader(train_set, 64, shuffle=True)\n",
        "testloader = DataLoader(test_set, 64, shuffle=True)"
      ],
      "id": "40e10458"
    },
    {
      "cell_type": "markdown",
      "metadata": {
        "id": "ee9a3be8"
      },
      "source": [
        "## Visualization\n",
        "\n",
        "Visualize 1 random image from each class\n"
      ],
      "id": "ee9a3be8"
    },
    {
      "cell_type": "code",
      "execution_count": null,
      "metadata": {
        "colab": {
          "base_uri": "https://localhost:8080/",
          "height": 377
        },
        "id": "a1b039d1",
        "outputId": "e575f210-7d65-4c98-f542-84fc812f6a25"
      },
      "outputs": [
        {
          "name": "stdout",
          "output_type": "stream",
          "text": [
            "10\n"
          ]
        },
        {
          "data": {
            "image/png": "[encoded data removed]",
            "text/plain": [
              "<Figure size 1000x400 with 10 Axes>"
            ]
          },
          "metadata": {},
          "output_type": "display_data"
        }
      ],
      "source": [
        "## FILL HERE\n",
        "class_images = {}\n",
        "class_names = ['airplane', 'automobile', 'bird', 'cat', 'deer',\n",
        "               'dog', 'frog', 'horse', 'ship', 'truck']\n",
        "for i in range(len(train_set)):\n",
        "    image, label = train_set[i]\n",
        "    if label not in class_images:\n",
        "        class_images[label] = (image, label)\n",
        "    elif random.randint(0, 100) == 1:\n",
        "        class_images[label] = (image, label)\n",
        "\n",
        "print(len(class_images))\n",
        "\n",
        "fig, axs = plt.subplots(2, 5, figsize=(10, 4))\n",
        "axs = axs.flatten()\n",
        "for i in range(len(class_images)):\n",
        "    axs[i].imshow(class_images[i][0][0])\n",
        "    axs[i].set_title(class_names[i])\n",
        "    axs[i].axis('off')\n",
        "plt.show()"
      ],
      "id": "a1b039d1"
    },
    {
      "cell_type": "markdown",
      "metadata": {
        "id": "1221642e"
      },
      "source": [
        "## Defining a Convolutional Neural Network\n",
        "\n",
        "In this section, you should define a class called `Net` which represents the model for your convolutional neural network.\n",
        "- **Hint:** You can use `torch.nn` to add the required layers to your model."
      ],
      "id": "1221642e"
    },
    {
      "cell_type": "code",
      "execution_count": null,
      "metadata": {
        "id": "0ba6a266"
      },
      "outputs": [],
      "source": [
        "import torch.nn as nn\n",
        "import torch.nn.functional as F\n",
        "\n",
        "\n",
        "class Net(nn.Module):\n",
        "    def __init__(self):\n",
        "        super().__init__()\n",
        "        ## FILL HERE\n",
        "        # Define the layers of your neural network here\n",
        "        self.conv1 = nn.Conv2d(in_channels=3, out_channels=64, kernel_size=3, padding=1)\n",
        "        self.bn1 = nn.BatchNorm2d(64)\n",
        "        self.conv2 = nn.Conv2d(in_channels=64, out_channels=64, kernel_size=3, padding=1)\n",
        "        self.bn2 = nn.BatchNorm2d(64)\n",
        "        self.conv3 = nn.Conv2d(in_channels=64, out_channels=128, kernel_size=3, padding=1)\n",
        "        self.bn3 = nn.BatchNorm2d(128)\n",
        "        self.conv4 = nn.Conv2d(in_channels=128, out_channels=128, kernel_size=3, padding=1)\n",
        "        self.bn4 = nn.BatchNorm2d(128)\n",
        "        self.conv5 = nn.Conv2d(in_channels=128, out_channels=256, kernel_size=3, padding=1)\n",
        "        self.bn5 = nn.BatchNorm2d(256)\n",
        "        self.conv6 = nn.Conv2d(in_channels=256, out_channels=256, kernel_size=3, padding=1)\n",
        "        self.bn6 = nn.BatchNorm2d(256)\n",
        "        self.pool = nn.MaxPool2d(kernel_size=2, stride=2)   \n",
        "        self.fc1 = nn.Linear(in_features=256 * 4 * 4, out_features=1024)\n",
        "        self.dropout1 = nn.Dropout(p=0.5)\n",
        "        self.fc2 = nn.Linear(in_features=1024, out_features=512)\n",
        "        self.dropout2 = nn.Dropout(p=0.5)\n",
        "        self.fc3 = nn.Linear(in_features=512, out_features=10)\n",
        "\n",
        "\n",
        "    def forward(self, x):\n",
        "        ## FILL HERE\n",
        "        # Define the forward pass of your neural network here\n",
        "        x = F.relu(self.bn1(self.conv1(x)))\n",
        "        x = F.relu(self.bn2(self.conv2(x)))\n",
        "        x = self.pool(x)  \n",
        "        x = F.relu(self.bn3(self.conv3(x)))\n",
        "        x = F.relu(self.bn4(self.conv4(x)))\n",
        "        x = self.pool(x)       \n",
        "        x = F.relu(self.bn5(self.conv5(x)))\n",
        "        x = F.relu(self.bn6(self.conv6(x)))\n",
        "        x = self.pool(x)       \n",
        "        x = x.view(-1, 256 * 4 * 4)    \n",
        "        x = F.relu(self.dropout1(self.fc1(x)))\n",
        "        x = F.relu(self.dropout2(self.fc2(x)))     \n",
        "        x = self.fc3(x)\n",
        "        return x\n",
        "\n",
        "net = Net()"
      ],
      "id": "0ba6a266"
    },
    {
      "cell_type": "markdown",
      "metadata": {
        "id": "e3c27c9f"
      },
      "source": [
        "## Define a Loss function and optimizer"
      ],
      "id": "e3c27c9f"
    },
    {
      "cell_type": "markdown",
      "metadata": {
        "id": "a8f1eadd"
      },
      "source": [
        "In this section, you simply define your loss function and optimizer.\n",
        "- **Hint:** You can use `torch.optim` and implemented loss functions in torch."
      ],
      "id": "a8f1eadd"
    },
    {
      "cell_type": "code",
      "execution_count": null,
      "metadata": {
        "id": "79068600"
      },
      "outputs": [],
      "source": [
        "## FILL HERE\n",
        "import torch.optim as optim\n",
        "def loss_and_opt(scores, y, parameters: Dict[str, torch.Tensor], learning_rate=0.001):\n",
        "    optimizer = optim.SGD(parameters, lr = learning_rate) \n",
        "    loss_fn = nn.CrossEntropyLoss()\n",
        "    optimizer.zero_grad()\n",
        "    loss = loss_fn(scores, y)\n",
        "    loss.backward()\n",
        "    optimizer.step()\n",
        "    return loss.item()"
      ],
      "id": "79068600"
    },
    {
      "cell_type": "markdown",
      "metadata": {
        "id": "b526ee28"
      },
      "source": [
        "## Training the model\n",
        "\n",
        "You should train your model for multiple epochs. You are free to choose the number of epochs. However, you should reach an acceptable accuracy at the end."
      ],
      "id": "b526ee28"
    },
    {
      "cell_type": "code",
      "execution_count": null,
      "metadata": {
        "colab": {
          "base_uri": "https://localhost:8080/"
        },
        "id": "fbf5c8d2",
        "outputId": "ded21991-0b9c-46df-8211-806b7692f9ab"
      },
      "outputs": [
        {
          "name": "stdout",
          "output_type": "stream",
          "text": [
            "[Epoch1, Batch100] Loss: 2.3083022022247315\n",
            "[Epoch1, Batch200] Loss: 2.2757651948928834\n",
            "[Epoch1, Batch300] Loss: 2.2453660798072814\n",
            "[Epoch1, Batch400] Loss: 2.1977249908447267\n",
            "[Epoch1, Batch500] Loss: 2.153470842838287\n",
            "[Epoch1, Batch600] Loss: 2.0979585099220275\n",
            "[Epoch1, Batch700] Loss: 2.032328276634216\n",
            "[Epoch2, Batch100] Loss: 1.947095603942871\n",
            "[Epoch2, Batch200] Loss: 1.9106185817718506\n",
            "[Epoch2, Batch300] Loss: 1.8604884052276611\n",
            "[Epoch2, Batch400] Loss: 1.8257188951969148\n",
            "[Epoch2, Batch500] Loss: 1.7947177731990813\n",
            "[Epoch2, Batch600] Loss: 1.7562815070152282\n",
            "[Epoch2, Batch700] Loss: 1.7328673994541168\n",
            "[Epoch3, Batch100] Loss: 1.6972293281555175\n",
            "[Epoch3, Batch200] Loss: 1.6714489078521728\n",
            "[Epoch3, Batch300] Loss: 1.6434871637821198\n",
            "[Epoch3, Batch400] Loss: 1.618387906551361\n",
            "[Epoch3, Batch500] Loss: 1.5867268431186676\n",
            "[Epoch3, Batch600] Loss: 1.573109518289566\n",
            "[Epoch3, Batch700] Loss: 1.5721491050720215\n",
            "[Epoch4, Batch100] Loss: 1.5379057025909424\n",
            "[Epoch4, Batch200] Loss: 1.523938502073288\n",
            "[Epoch4, Batch300] Loss: 1.5038199746608734\n",
            "[Epoch4, Batch400] Loss: 1.5047419631481171\n",
            "[Epoch4, Batch500] Loss: 1.476023963689804\n",
            "[Epoch4, Batch600] Loss: 1.4648736941814422\n",
            "[Epoch4, Batch700] Loss: 1.4512447583675385\n",
            "[Epoch5, Batch100] Loss: 1.4272056233882904\n",
            "[Epoch5, Batch200] Loss: 1.4072474026679993\n",
            "[Epoch5, Batch300] Loss: 1.3983300185203553\n",
            "[Epoch5, Batch400] Loss: 1.386730192899704\n",
            "[Epoch5, Batch500] Loss: 1.3519322192668914\n",
            "[Epoch5, Batch600] Loss: 1.36746297955513\n",
            "[Epoch5, Batch700] Loss: 1.3307784497737885\n",
            "[Epoch6, Batch100] Loss: 1.3046323239803315\n",
            "[Epoch6, Batch200] Loss: 1.3111098766326905\n",
            "[Epoch6, Batch300] Loss: 1.3080195653438569\n",
            "[Epoch6, Batch400] Loss: 1.3055883502960206\n",
            "[Epoch6, Batch500] Loss: 1.2904590433835983\n",
            "[Epoch6, Batch600] Loss: 1.264984166622162\n",
            "[Epoch6, Batch700] Loss: 1.2750584423542022\n",
            "[Epoch7, Batch100] Loss: 1.2213258302211762\n",
            "[Epoch7, Batch200] Loss: 1.2357029116153717\n",
            "[Epoch7, Batch300] Loss: 1.242731899023056\n",
            "[Epoch7, Batch400] Loss: 1.1932687431573867\n",
            "[Epoch7, Batch500] Loss: 1.1777795618772506\n",
            "[Epoch7, Batch600] Loss: 1.1745345842838288\n",
            "[Epoch7, Batch700] Loss: 1.1900815957784652\n",
            "[Epoch8, Batch100] Loss: 1.1499600780010224\n",
            "[Epoch8, Batch200] Loss: 1.1597531622648238\n",
            "[Epoch8, Batch300] Loss: 1.1535255527496338\n",
            "[Epoch8, Batch400] Loss: 1.134583628177643\n",
            "[Epoch8, Batch500] Loss: 1.1393335163593292\n",
            "[Epoch8, Batch600] Loss: 1.1167814099788667\n",
            "[Epoch8, Batch700] Loss: 1.1274755012989044\n",
            "[Epoch9, Batch100] Loss: 1.0928486889600755\n",
            "[Epoch9, Batch200] Loss: 1.0938719207048415\n",
            "[Epoch9, Batch300] Loss: 1.0768811106681824\n",
            "[Epoch9, Batch400] Loss: 1.0640904092788697\n",
            "[Epoch9, Batch500] Loss: 1.075127871632576\n",
            "[Epoch9, Batch600] Loss: 1.045409374833107\n",
            "[Epoch9, Batch700] Loss: 1.0492097574472428\n",
            "[Epoch10, Batch100] Loss: 1.016434090733528\n",
            "[Epoch10, Batch200] Loss: 1.0366773229837418\n",
            "[Epoch10, Batch300] Loss: 1.0079360491037368\n",
            "[Epoch10, Batch400] Loss: 0.9895422130823135\n",
            "[Epoch10, Batch500] Loss: 1.0026893317699432\n",
            "[Epoch10, Batch600] Loss: 1.024490599632263\n",
            "[Epoch10, Batch700] Loss: 0.9918823367357255\n",
            "Finished Training\n"
          ]
        }
      ],
      "source": [
        "epoch_nums = 10\n",
        "for epoch in range(epoch_nums):  # loop over the dataset multiple times\n",
        "\n",
        "    running_loss = 0.0\n",
        "    for i, data in enumerate(trainloader, 0):\n",
        "        ## FILL HERE\n",
        "        ## You should train the model and also print the running loss for each batch\n",
        "        input_images, labels = data\n",
        "        outs = net(input_images)\n",
        "        loss = loss_and_opt(outs, labels, net.parameters())\n",
        "        running_loss +=  loss\n",
        "        if i%100 == 99:\n",
        "          print(f\"[Epoch{epoch+1}, Batch{i+1}] Loss: {running_loss/100}\")\n",
        "          running_loss = 0.0\n",
        "\n",
        "print('Finished Training')"
      ],
      "id": "fbf5c8d2"
    },
    {
      "cell_type": "markdown",
      "metadata": {
        "id": "14558277"
      },
      "source": [
        "## Test the network on the test data\n",
        "\n",
        "In the following section, you should test your network and calculate the accuracy of your model on the test dataset."
      ],
      "id": "14558277"
    },
    {
      "cell_type": "code",
      "execution_count": null,
      "metadata": {
        "colab": {
          "base_uri": "https://localhost:8080/"
        },
        "id": "fb0f4803",
        "outputId": "1e9a0de1-72ee-48c7-da39-11c6380c4b4d"
      },
      "outputs": [
        {
          "name": "stdout",
          "output_type": "stream",
          "text": [
            "Accuracy of the network on the 10000 test images: 62 %\n"
          ]
        }
      ],
      "source": [
        "correct = 0\n",
        "total = 0\n",
        "# since we're not training, we don't need to calculate the gradients for our outputs\n",
        "with torch.no_grad():\n",
        "    for data in testloader:\n",
        "        ## FILL HERE\n",
        "        images, labels = data\n",
        "        out = net(images)\n",
        "        _, pred = torch.max(out.data, 1)\n",
        "        total += labels.size(0)\n",
        "        correct += (pred == labels).sum().item()\n",
        "\n",
        "print(f'Accuracy of the network on the 10000 test images: {100 * correct // total} %')"
      ],
      "id": "fb0f4803"
    },
    {
      "cell_type": "markdown",
      "metadata": {
        "id": "9a90c190"
      },
      "source": [
        "Here, we also calculate the model performance for each class as well."
      ],
      "id": "9a90c190"
    },
    {
      "cell_type": "code",
      "execution_count": null,
      "metadata": {
        "colab": {
          "background_save": true
        },
        "id": "8afd6a24",
        "outputId": "907976f4-cd10-4660-c447-ff1f7708b76f"
      },
      "outputs": [
        {
          "name": "stdout",
          "output_type": "stream",
          "text": [
            "Accuracy for class: airplane is 68.1 %\n",
            "Accuracy for class: automobile is 79.5 %\n",
            "Accuracy for class: bird  is 49.9 %\n",
            "Accuracy for class: cat   is 44.0 %\n",
            "Accuracy for class: deer  is 56.3 %\n",
            "Accuracy for class: dog   is 52.5 %\n",
            "Accuracy for class: frog  is 68.1 %\n",
            "Accuracy for class: horse is 60.3 %\n",
            "Accuracy for class: ship  is 71.4 %\n",
            "Accuracy for class: truck is 70.7 %\n"
          ]
        }
      ],
      "source": [
        "# prepare to count predictions for each class\n",
        "correct_pred = {classname: 0 for classname in class_names}\n",
        "total_pred = {classname: 0 for classname in class_names}\n",
        "\n",
        "# again no gradients needed\n",
        "with torch.no_grad():\n",
        "    for data in testloader:\n",
        "        ## FILL HERE\n",
        "        images, labels = data\n",
        "        outs = net(images)\n",
        "        _, predicted = torch.max(outs.data, 1)\n",
        "        \n",
        "        # count predictions for each class\n",
        "        for classname in class_names:\n",
        "            label_indices = [i for i, label in enumerate(labels) if class_names[label] == classname]\n",
        "            pred_indices = [i for i, pred in enumerate(predicted) if class_names[pred] == classname]\n",
        "            correct_pred[classname] += len(set(label_indices) & set(pred_indices))\n",
        "            total_pred[classname] += len(pred_indices)\n",
        "\n",
        "\n",
        "\n",
        "# print accuracy for each class\n",
        "for classname, correct_count in correct_pred.items():\n",
        "    accuracy = 100 * float(correct_count) / total_pred[classname]\n",
        "    print(f'Accuracy for class: {classname:5s} is {accuracy:.1f} %')"
      ],
      "id": "8afd6a24"
    }
  ],
  "metadata": {
    "colab": {
      "provenance": [],
      "include_colab_link": true
    },
    "kernelspec": {
      "display_name": "Python 3",
      "language": "python",
      "name": "python3"
    },
    "language_info": {
      "codemirror_mode": {
        "name": "ipython",
        "version": 3
      },
      "file_extension": ".py",
      "mimetype": "text/x-python",
      "name": "python",
      "nbconvert_exporter": "python",
      "pygments_lexer": "ipython3",
      "version": "3.8.3"
    }
  },
  "nbformat": 4,
  "nbformat_minor": 5
}